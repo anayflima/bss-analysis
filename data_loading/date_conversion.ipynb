{
 "cells": [
  {
   "cell_type": "code",
   "execution_count": 2,
   "metadata": {},
   "outputs": [],
   "source": [
    "import pandas as pd"
   ]
  },
  {
   "cell_type": "code",
   "execution_count": 16,
   "metadata": {},
   "outputs": [],
   "source": [
    "format_br = \"17/10/2019 11:11\"\n",
    "format_br2 = \"07/10/2019 11:11\"\n",
    "format_eua = \"2019-10-17 00:33:06\"\n",
    "format_eua2 = \"2019-10-07 00:33:06\""
   ]
  },
  {
   "cell_type": "code",
   "execution_count": null,
   "metadata": {},
   "outputs": [],
   "source": [
    "format_br2 = \"07/10/2019 11:11\"\n",
    "format_eua = \"2019-10-17 00:33:06\"\n",
    "format_eua2 = \"2019-10-07 00:33:06\""
   ]
  },
  {
   "cell_type": "code",
   "execution_count": 17,
   "metadata": {},
   "outputs": [
    {
     "data": {
      "text/plain": [
       "Timestamp('2019-10-17 11:11:00')"
      ]
     },
     "execution_count": 17,
     "metadata": {},
     "output_type": "execute_result"
    }
   ],
   "source": [
    "pd.to_datetime(format_br)"
   ]
  },
  {
   "cell_type": "code",
   "execution_count": 18,
   "metadata": {},
   "outputs": [
    {
     "data": {
      "text/plain": [
       "Timestamp('2019-07-10 11:11:00')"
      ]
     },
     "execution_count": 18,
     "metadata": {},
     "output_type": "execute_result"
    }
   ],
   "source": [
    "pd.to_datetime(format_br2)"
   ]
  },
  {
   "cell_type": "code",
   "execution_count": 24,
   "metadata": {},
   "outputs": [
    {
     "data": {
      "text/plain": [
       "Timestamp('2019-10-07 11:11:00')"
      ]
     },
     "execution_count": 24,
     "metadata": {},
     "output_type": "execute_result"
    }
   ],
   "source": [
    "pd.to_datetime(format_br2, format='%d/%m/%Y %H:%M')"
   ]
  },
  {
   "cell_type": "code",
   "execution_count": 44,
   "metadata": {},
   "outputs": [
    {
     "name": "stdout",
     "output_type": "stream",
     "text": [
      "17/10/2019 11:11 -> 2019-10-17 11:11:00\n",
      "07/10/2019 11:11 -> 2019-10-07 11:11:00\n",
      "2019-10-17 00:33:06 -> 2019-10-17 00:33:06\n",
      "2019-10-07 00:33:06 -> 2019-10-07 00:33:06\n",
      "2019-10-17 -> 2019-10-17 00:00:00\n"
     ]
    }
   ],
   "source": [
    "incorrect_format = \"2019-10-17\"\n",
    "for date in [format_br, format_br2, format_eua, format_eua2, incorrect_format]:\n",
    "    if '/' in date:\n",
    "        date_transformed = pd.to_datetime(date, format='%d/%m/%Y %H:%M')\n",
    "    else:\n",
    "        date_transformed = pd.to_datetime(date, format='%Y-%m-%d %H:%M')\n",
    "    print('{date} -> {date_transformed}'.format(date = date, date_transformed = date_transformed))"
   ]
  },
  {
   "cell_type": "code",
   "execution_count": 36,
   "metadata": {},
   "outputs": [
    {
     "data": {
      "text/plain": [
       "True"
      ]
     },
     "execution_count": 36,
     "metadata": {},
     "output_type": "execute_result"
    }
   ],
   "source": [
    "'/' in format_br"
   ]
  },
  {
   "cell_type": "markdown",
   "metadata": {},
   "source": [
    "It should be 2019-10-07 !!!!"
   ]
  },
  {
   "cell_type": "code",
   "execution_count": 19,
   "metadata": {},
   "outputs": [
    {
     "data": {
      "text/plain": [
       "Timestamp('2019-10-17 00:33:06')"
      ]
     },
     "execution_count": 19,
     "metadata": {},
     "output_type": "execute_result"
    }
   ],
   "source": [
    "pd.to_datetime(format_eua)"
   ]
  },
  {
   "cell_type": "code",
   "execution_count": 20,
   "metadata": {},
   "outputs": [
    {
     "data": {
      "text/plain": [
       "Timestamp('2019-10-07 00:33:06')"
      ]
     },
     "execution_count": 20,
     "metadata": {},
     "output_type": "execute_result"
    }
   ],
   "source": [
    "pd.to_datetime(format_eua2)"
   ]
  }
 ],
 "metadata": {
  "kernelspec": {
   "display_name": "Python 3.7.6 ('virtualenv': venv)",
   "language": "python",
   "name": "python3"
  },
  "language_info": {
   "codemirror_mode": {
    "name": "ipython",
    "version": 3
   },
   "file_extension": ".py",
   "mimetype": "text/x-python",
   "name": "python",
   "nbconvert_exporter": "python",
   "pygments_lexer": "ipython3",
   "version": "3.7.6"
  },
  "orig_nbformat": 4,
  "vscode": {
   "interpreter": {
    "hash": "3599f990855689043b88978caa66708c5342414df26d4823d1983700c9fea418"
   }
  }
 },
 "nbformat": 4,
 "nbformat_minor": 2
}
