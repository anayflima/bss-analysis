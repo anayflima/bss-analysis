{
 "cells": [
  {
   "cell_type": "code",
   "execution_count": 13,
   "metadata": {},
   "outputs": [],
   "source": [
    "import pandas as pd\n",
    "import sys\n",
    "sys.path.append('./pngTopdf')\n",
    "import os\n",
    "\n",
    "if 'pngTopdf' in os.getcwd():\n",
    "    data_folder = '../data/'\n",
    "else:\n",
    "    data_folder = './data/'\n",
    "\n",
    "without_outliers = True\n",
    "\n",
    "source_folder_path = data_folder + 'charts/best_fit/without_outliers/'\n",
    "destination_folder_path = data_folder + 'pdfs/'\n"
   ]
  },
  {
   "cell_type": "code",
   "execution_count": 14,
   "metadata": {},
   "outputs": [
    {
     "name": "stdout",
     "output_type": "stream",
     "text": [
      "Requirement already satisfied: fpdf in /home/ana/Documents/ic/bss-analysis/virtualenv/lib/python3.7/site-packages (1.7.2)\n",
      "\n",
      "\u001b[1m[\u001b[0m\u001b[34;49mnotice\u001b[0m\u001b[1;39;49m]\u001b[0m\u001b[39;49m A new release of pip available: \u001b[0m\u001b[31;49m22.3\u001b[0m\u001b[39;49m -> \u001b[0m\u001b[32;49m22.3.1\u001b[0m\n",
      "\u001b[1m[\u001b[0m\u001b[34;49mnotice\u001b[0m\u001b[1;39;49m]\u001b[0m\u001b[39;49m To update, run: \u001b[0m\u001b[32;49mpip install --upgrade pip\u001b[0m\n"
     ]
    }
   ],
   "source": [
    "!pip install fpdf"
   ]
  },
  {
   "cell_type": "code",
   "execution_count": 15,
   "metadata": {},
   "outputs": [
    {
     "name": "stdout",
     "output_type": "stream",
     "text": [
      "[<PIL.Image.Image image mode=RGB size=864x576 at 0x7F4F7593AC50>, <PIL.Image.Image image mode=RGB size=864x576 at 0x7F4F7593A490>, <PIL.Image.Image image mode=RGB size=864x576 at 0x7F4F75AB1F50>, <PIL.Image.Image image mode=RGB size=864x576 at 0x7F4F7593A6D0>, <PIL.Image.Image image mode=RGB size=864x576 at 0x7F4F75A50710>, <PIL.Image.Image image mode=RGB size=864x576 at 0x7F4F7593A190>, <PIL.Image.Image image mode=RGB size=864x576 at 0x7F4F7593AF90>, <PIL.Image.Image image mode=RGB size=864x576 at 0x7F4F7594B850>, <PIL.Image.Image image mode=RGB size=864x576 at 0x7F4F7594BE10>]\n"
     ]
    }
   ],
   "source": [
    "from PIL import Image \n",
    "# install by > python3 -m pip install --upgrade Pillow\n",
    "# # ref. https://pillow.readthedocs.io/en/latest/installation.html#basic-installation\n",
    "\n",
    "images = []\n",
    "for f in ['distance_before_1.png','distance_during_1.png','distance_after_1.png',\n",
    "            'distance_before_2.png', 'distance_during_1.png','distance_after_2.png',\n",
    "            'distance_before_3.png', 'distance_during_3.png','distance_after_3.png']:\n",
    "            png = Image.open(source_folder_path + f)\n",
    "            png.load()\n",
    "            background = Image.new(\"RGB\", png.size, (255, 255, 255))\n",
    "            background.paste(png, mask=png.split()[3]) # 3 is the alpha channel\n",
    "            images.append(background)\n",
    "print(images)\n",
    "\n",
    "pdf_path = destination_folder_path + 'distance_before_during_after.pdf'\n",
    "    \n",
    "images[0].save(\n",
    "    pdf_path, \"PDF\" ,resolution=100.0, save_all=True, append_images=images[1:])"
   ]
  },
  {
   "cell_type": "code",
   "execution_count": 16,
   "metadata": {},
   "outputs": [],
   "source": [
    "from PIL import Image\n",
    "\n",
    "for variable in ['distance', 'tripduration', 'number_of_trips']:\n",
    "    for period in ['before', 'during', 'after']:\n",
    "\n",
    "        # get images    \n",
    "        img1 = Image.open(source_folder_path + variable + '_'+ period+ '_1.png')\n",
    "        img2 = Image.open(source_folder_path + variable + '_'+ period+ '_2.png')\n",
    "        img3 = Image.open(source_folder_path + variable + '_'+ period+ '_3.png')\n",
    "        img4 = Image.open(source_folder_path + variable + '_'+ period+ '_4.png')\n",
    "\n",
    "        # get width and height\n",
    "        w1, h1 = img1.size\n",
    "        w2, h2 = img2.size\n",
    "        w3, h3 = img3.size\n",
    "        w4, h4 = img3.size\n",
    "\n",
    "        # to calculate size of new image \n",
    "        w = max(w1, w2, w3, w4)\n",
    "        h = max(h1, h2, h3, h4)\n",
    "\n",
    "        # create big empty image with place for images\n",
    "        new_image = Image.new('RGB', (w*2, h*2))\n",
    "\n",
    "        # put images on new_image\n",
    "        new_image.paste(img1, (0, 0))\n",
    "        new_image.paste(img2, (w, 0))\n",
    "        new_image.paste(img3, (0, h))\n",
    "        new_image.paste(img4, (w, h))\n",
    "\n",
    "        # save it\n",
    "        new_image.save(source_folder_path + 'grouped/'+variable+'_' + period+ '.png')"
   ]
  },
  {
   "cell_type": "code",
   "execution_count": 17,
   "metadata": {},
   "outputs": [],
   "source": [
    "from PIL import Image\n",
    "\n",
    "for variable in ['distance', 'tripduration', 'number_of_trips']:\n",
    "    for degree in ['1','2','3','4']:\n",
    "\n",
    "        # get images    \n",
    "        img1 = Image.open(source_folder_path + variable + '_'+ 'before'+ '_'+degree+'.png')\n",
    "        img2 = Image.open(source_folder_path + variable + '_'+ 'during'+ '_'+degree+'.png')\n",
    "        img3 = Image.open(source_folder_path + variable + '_'+ 'after'+ '_'+degree+'.png')\n",
    "        # img4 = Image.open(source_folder_path + variable + '_'+ 'after'+ '_'+degree+'.png')\n",
    "\n",
    "        # get width and height\n",
    "        w1, h1 = img1.size\n",
    "        w2, h2 = img2.size\n",
    "        w3, h3 = img3.size\n",
    "        # w4, h4 = img3.size\n",
    "\n",
    "        # to calculate size of new image \n",
    "        w = max(w1, w2, w3)\n",
    "        h = max(h1, h2, h3)\n",
    "\n",
    "        # create big empty image with place for images\n",
    "        new_image = Image.new('RGB', (w*2, h*2),(255, 255, 255))\n",
    "\n",
    "        # put images on new_image\n",
    "        new_image.paste(img1, (0, 0))\n",
    "        new_image.paste(img2, (w, 0))\n",
    "        new_image.paste(img3, (w//2, h))\n",
    "        # new_image.paste(img4, (w, h))\n",
    "\n",
    "        # save it\n",
    "        new_image.save(source_folder_path + 'grouped/'+variable+'_' + degree+ '.png')"
   ]
  },
  {
   "cell_type": "code",
   "execution_count": 18,
   "metadata": {},
   "outputs": [
    {
     "name": "stdout",
     "output_type": "stream",
     "text": [
      "../data/charts/best_fit/without_outliers/grouped/distance_1.png\n",
      "../data/charts/best_fit/without_outliers/grouped/number_of_trips_1.png\n",
      "../data/charts/best_fit/without_outliers/grouped/tripduration_1.png\n",
      "[<PIL.Image.Image image mode=RGB size=1728x1152 at 0x7F4F75ABD0D0>, <PIL.Image.Image image mode=RGB size=1728x1152 at 0x7F4F75ABD2D0>, <PIL.Image.Image image mode=RGB size=1728x1152 at 0x7F4F76070290>]\n",
      "../data/charts/best_fit/without_outliers/grouped/distance_2.png\n",
      "../data/charts/best_fit/without_outliers/grouped/number_of_trips_2.png\n",
      "../data/charts/best_fit/without_outliers/grouped/tripduration_2.png\n",
      "[<PIL.Image.Image image mode=RGB size=1728x1152 at 0x7F4F75951AD0>, <PIL.Image.Image image mode=RGB size=1728x1152 at 0x7F4F76070CD0>, <PIL.Image.Image image mode=RGB size=1728x1152 at 0x7F4F75951290>]\n",
      "../data/charts/best_fit/without_outliers/grouped/distance_3.png\n",
      "../data/charts/best_fit/without_outliers/grouped/number_of_trips_3.png\n",
      "../data/charts/best_fit/without_outliers/grouped/tripduration_3.png\n",
      "[<PIL.Image.Image image mode=RGB size=1728x1152 at 0x7F4F7593A290>, <PIL.Image.Image image mode=RGB size=1728x1152 at 0x7F4F7593A590>, <PIL.Image.Image image mode=RGB size=1728x1152 at 0x7F4F75A58FD0>]\n",
      "../data/charts/best_fit/without_outliers/grouped/distance_4.png\n",
      "../data/charts/best_fit/without_outliers/grouped/number_of_trips_4.png\n",
      "../data/charts/best_fit/without_outliers/grouped/tripduration_4.png\n",
      "[<PIL.Image.Image image mode=RGB size=1728x1152 at 0x7F4F7593A290>, <PIL.Image.Image image mode=RGB size=1728x1152 at 0x7F4F89F14DD0>, <PIL.Image.Image image mode=RGB size=1728x1152 at 0x7F4F89F14E90>]\n"
     ]
    }
   ],
   "source": [
    "from PIL import Image\n",
    "\n",
    "for period in ['1','2', '3', '4']:\n",
    "    images = []\n",
    "    variables = ['distance', 'number_of_trips','tripduration']\n",
    "\n",
    "    for f in [variables[0] + '_'+period+'.png',\n",
    "                variables[1] + '_'+period+'.png',\n",
    "                variables[2] + '_'+period+'.png']:\n",
    "        print(source_folder_path + 'grouped/'+f)\n",
    "        png = Image.open(source_folder_path + 'grouped/'+f)\n",
    "        png.load()\n",
    "        background = Image.new(\"RGB\", png.size, (255, 255, 255))\n",
    "        # background.paste(png, mask=png.split()[3]) # 3 is the alpha channel\n",
    "        background.paste(png) # 3 is the alpha channel\n",
    "        images.append(background)\n",
    "    print(images)\n",
    "\n",
    "    pdf_path = destination_folder_path + 'variables_'+ period+ '.pdf'\n",
    "        \n",
    "    images[0].save(\n",
    "        pdf_path, \"PDF\" ,resolution=100.0, save_all=True, append_images=images[1:])"
   ]
  }
 ],
 "metadata": {
  "kernelspec": {
   "display_name": "Python 3.7.6 ('virtualenv': venv)",
   "language": "python",
   "name": "python3"
  },
  "language_info": {
   "codemirror_mode": {
    "name": "ipython",
    "version": 3
   },
   "file_extension": ".py",
   "mimetype": "text/x-python",
   "name": "python",
   "nbconvert_exporter": "python",
   "pygments_lexer": "ipython3",
   "version": "3.7.6"
  },
  "orig_nbformat": 4,
  "vscode": {
   "interpreter": {
    "hash": "3599f990855689043b88978caa66708c5342414df26d4823d1983700c9fea418"
   }
  }
 },
 "nbformat": 4,
 "nbformat_minor": 2
}
