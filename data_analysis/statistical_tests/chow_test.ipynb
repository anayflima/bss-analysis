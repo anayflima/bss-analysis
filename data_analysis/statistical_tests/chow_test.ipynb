{
 "cells": [
  {
   "cell_type": "code",
   "execution_count": 1,
   "metadata": {},
   "outputs": [
    {
     "data": {
      "text/html": [
       "<div>\n",
       "<style scoped>\n",
       "    .dataframe tbody tr th:only-of-type {\n",
       "        vertical-align: middle;\n",
       "    }\n",
       "\n",
       "    .dataframe tbody tr th {\n",
       "        vertical-align: top;\n",
       "    }\n",
       "\n",
       "    .dataframe thead th {\n",
       "        text-align: right;\n",
       "    }\n",
       "</style>\n",
       "<table border=\"1\" class=\"dataframe\">\n",
       "  <thead>\n",
       "    <tr style=\"text-align: right;\">\n",
       "      <th></th>\n",
       "      <th>x</th>\n",
       "      <th>y</th>\n",
       "    </tr>\n",
       "  </thead>\n",
       "  <tbody>\n",
       "    <tr>\n",
       "      <th>0</th>\n",
       "      <td>1.9</td>\n",
       "      <td>3</td>\n",
       "    </tr>\n",
       "    <tr>\n",
       "      <th>1</th>\n",
       "      <td>1.0</td>\n",
       "      <td>5</td>\n",
       "    </tr>\n",
       "    <tr>\n",
       "      <th>2</th>\n",
       "      <td>2.0</td>\n",
       "      <td>6</td>\n",
       "    </tr>\n",
       "    <tr>\n",
       "      <th>3</th>\n",
       "      <td>3.0</td>\n",
       "      <td>10</td>\n",
       "    </tr>\n",
       "    <tr>\n",
       "      <th>4</th>\n",
       "      <td>4.0</td>\n",
       "      <td>13</td>\n",
       "    </tr>\n",
       "  </tbody>\n",
       "</table>\n",
       "</div>"
      ],
      "text/plain": [
       "     x   y\n",
       "0  1.9   3\n",
       "1  1.0   5\n",
       "2  2.0   6\n",
       "3  3.0  10\n",
       "4  4.0  13"
      ]
     },
     "execution_count": 1,
     "metadata": {},
     "output_type": "execute_result"
    }
   ],
   "source": [
    "import pandas as pd\n",
    "\n",
    "#create DataFrame\n",
    "df = pd.DataFrame({'x': [1.9, 1, 2, 3, 4, 4, 5, 5, 6, 7, 7, 8, 8, 9, 10, 10,\n",
    "                         11, 12, 12, 13, 14, 15, 15, 16, 17, 18, 18, 19, 20, 20],\n",
    "                   'y': [3, 5, 6, 10, 13, 15, 17, 14, 20, 23, 25, 27, 30, 30, 31,\n",
    "                         33, 32, 32, 30, 32, 34, 34, 37, 35, 34, 36, 34, 37, 38, 36]})\n",
    "\n",
    "#view first five rows of DataFrame\n",
    "df.head()"
   ]
  },
  {
   "cell_type": "code",
   "execution_count": 2,
   "metadata": {},
   "outputs": [
    {
     "data": {
      "text/plain": [
       "[<matplotlib.lines.Line2D at 0x7f4afad95040>]"
      ]
     },
     "execution_count": 2,
     "metadata": {},
     "output_type": "execute_result"
    },
    {
     "data": {
      "image/png": "[encoded data removed]",
      "text/plain": [
       "<Figure size 640x480 with 1 Axes>"
      ]
     },
     "metadata": {},
     "output_type": "display_data"
    }
   ],
   "source": [
    "import matplotlib.pyplot as plt\n",
    "\n",
    "#create scatterplot\n",
    "plt.plot(df.x, df.y, 'o')"
   ]
  },
  {
   "cell_type": "code",
   "execution_count": 3,
   "metadata": {},
   "outputs": [
    {
     "name": "stdout",
     "output_type": "stream",
     "text": [
      "/bin/bash: /home/usuario/Documents/bss-analysis/virtualenv/bin/pip: /home/usuario/Documentos/bss-analysis/virtualenv/bin/python3: bad interpreter: No such file or directory\n"
     ]
    }
   ],
   "source": [
    "!pip install chowtest"
   ]
  },
  {
   "cell_type": "code",
   "execution_count": 4,
   "metadata": {},
   "outputs": [
    {
     "ename": "ImportError",
     "evalue": "cannot import name 'chowtest' from 'chow_test' (/home/usuario/Documents/bss-analysis/virtualenv/lib/python3.8/site-packages/chow_test/__init__.py)",
     "output_type": "error",
     "traceback": [
      "\u001b[0;31m---------------------------------------------------------------------------\u001b[0m",
      "\u001b[0;31mImportError\u001b[0m                               Traceback (most recent call last)",
      "Cell \u001b[0;32mIn[4], line 1\u001b[0m\n\u001b[0;32m----> 1\u001b[0m \u001b[39mfrom\u001b[39;00m \u001b[39mchow_test\u001b[39;00m \u001b[39mimport\u001b[39;00m chowtest\n",
      "\u001b[0;31mImportError\u001b[0m: cannot import name 'chowtest' from 'chow_test' (/home/usuario/Documents/bss-analysis/virtualenv/lib/python3.8/site-packages/chow_test/__init__.py)"
     ]
    }
   ],
   "source": [
    "from chow_test import chowtest"
   ]
  },
  {
   "cell_type": "code",
   "execution_count": null,
   "metadata": {},
   "outputs": [
    {
     "ename": "",
     "evalue": "",
     "output_type": "error",
     "traceback": [
      "\u001b[1;31mRunning cells with '/usr/bin/python' requires ipykernel package.\n",
      "\u001b[1;31mRun the following command to install 'ipykernel' into the Python environment. \n",
      "\u001b[1;31mCommand: '/usr/bin/python -m pip install ipykernel -U --user --force-reinstall'"
     ]
    }
   ],
   "source": [
    "type(df.iloc[:]['y'])"
   ]
  },
  {
   "cell_type": "code",
   "execution_count": null,
   "metadata": {},
   "outputs": [
    {
     "ename": "",
     "evalue": "",
     "output_type": "error",
     "traceback": [
      "\u001b[1;31mRunning cells with '/usr/bin/python' requires ipykernel package.\n",
      "\u001b[1;31mRun the following command to install 'ipykernel' into the Python environment. \n",
      "\u001b[1;31mCommand: '/usr/bin/python -m pip install ipykernel -U --user --force-reinstall'"
     ]
    }
   ],
   "source": [
    "chow_test(y_series=df.iloc[:]['y'], X_series=df.iloc[:]['x'],\n",
    "         last_index=15,\n",
    "         first_index=16,\n",
    "         significance=.05)"
   ]
  },
  {
   "cell_type": "code",
   "execution_count": null,
   "metadata": {},
   "outputs": [
    {
     "ename": "",
     "evalue": "",
     "output_type": "error",
     "traceback": [
      "\u001b[1;31mRunning cells with '/usr/bin/python' requires ipykernel package.\n",
      "\u001b[1;31mRun the following command to install 'ipykernel' into the Python environment. \n",
      "\u001b[1;31mCommand: '/usr/bin/python -m pip install ipykernel -U --user --force-reinstall'"
     ]
    }
   ],
   "source": [
    "oi[1]"
   ]
  },
  {
   "cell_type": "code",
   "execution_count": null,
   "metadata": {},
   "outputs": [
    {
     "ename": "",
     "evalue": "",
     "output_type": "error",
     "traceback": [
      "\u001b[1;31mRunning cells with '/usr/bin/python' requires ipykernel package.\n",
      "\u001b[1;31mRun the following command to install 'ipykernel' into the Python environment. \n",
      "\u001b[1;31mCommand: '/usr/bin/python -m pip install ipykernel -U --user --force-reinstall'"
     ]
    }
   ],
   "source": [
    "from bokeh.plotting import figure, output_file, show\n",
    "from bokeh.models import LinearAxis, Range1d\n",
    "import pandas as pd\n",
    "\n",
    "import pandas as pd\n",
    "import numpy as np\n",
    "import os\n",
    "import sys\n",
    "sys.path.append('./data_analysis')\n",
    "\n",
    "if 'data_analysis' in os.getcwd():\n",
    "    data_folder = '../data/'\n",
    "else:\n",
    "    data_folder = './data/'\n",
    "\n",
    "source_folder_path = data_folder + 'trips/analysis/'\n",
    "destination_folder_path = data_folder + 'charts/'\n",
    "covid_data = pd.read_csv(data_folder + 'covid/treated_data/data.csv')\n",
    "\n",
    "trips = pd.read_csv(source_folder_path + 'trips_grouped_by_month_mean.csv')\n",
    "\n",
    "from modules.DataPreparation import DataPreparation\n",
    "dp = DataPreparation()\n",
    "\n",
    "covid_data = dp.transform_to_datetime(covid_data, ['date'])\n",
    "covid_data = dp.transform_to_time_series(covid_data, 'date', drop=True)\n",
    "\n",
    "trips = dp.transform_to_datetime(trips, ['date'])\n",
    "trips = dp.transform_to_time_series(trips, 'date', drop = False)\n",
    "\n",
    "trips_and_covid = pd.merge(trips, covid_data, left_index=True,\n",
    "                            right_index=True, how = 'left')\n",
    "\n",
    "trips_and_covid['date_trips'] = trips_and_covid.index"
   ]
  },
  {
   "cell_type": "code",
   "execution_count": null,
   "metadata": {},
   "outputs": [
    {
     "ename": "",
     "evalue": "",
     "output_type": "error",
     "traceback": [
      "\u001b[1;31mRunning cells with '/usr/bin/python' requires ipykernel package.\n",
      "\u001b[1;31mRun the following command to install 'ipykernel' into the Python environment. \n",
      "\u001b[1;31mCommand: '/usr/bin/python -m pip install ipykernel -U --user --force-reinstall'"
     ]
    }
   ],
   "source": [
    "trips['date']"
   ]
  },
  {
   "cell_type": "code",
   "execution_count": null,
   "metadata": {},
   "outputs": [
    {
     "ename": "",
     "evalue": "",
     "output_type": "error",
     "traceback": [
      "\u001b[1;31mRunning cells with '/usr/bin/python' requires ipykernel package.\n",
      "\u001b[1;31mRun the following command to install 'ipykernel' into the Python environment. \n",
      "\u001b[1;31mCommand: '/usr/bin/python -m pip install ipykernel -U --user --force-reinstall'"
     ]
    }
   ],
   "source": [
    "trips"
   ]
  },
  {
   "cell_type": "code",
   "execution_count": null,
   "metadata": {},
   "outputs": [
    {
     "ename": "",
     "evalue": "",
     "output_type": "error",
     "traceback": [
      "\u001b[1;31mRunning cells with '/usr/bin/python' requires ipykernel package.\n",
      "\u001b[1;31mRun the following command to install 'ipykernel' into the Python environment. \n",
      "\u001b[1;31mCommand: '/usr/bin/python -m pip install ipykernel -U --user --force-reinstall'"
     ]
    }
   ],
   "source": [
    "!pip install statsmodels"
   ]
  },
  {
   "cell_type": "code",
   "execution_count": null,
   "metadata": {},
   "outputs": [
    {
     "ename": "",
     "evalue": "",
     "output_type": "error",
     "traceback": [
      "\u001b[1;31mRunning cells with '/usr/bin/python' requires ipykernel package.\n",
      "\u001b[1;31mRun the following command to install 'ipykernel' into the Python environment. \n",
      "\u001b[1;31mCommand: '/usr/bin/python -m pip install ipykernel -U --user --force-reinstall'"
     ]
    }
   ],
   "source": []
  },
  {
   "cell_type": "code",
   "execution_count": null,
   "metadata": {},
   "outputs": [
    {
     "ename": "",
     "evalue": "",
     "output_type": "error",
     "traceback": [
      "\u001b[1;31mRunning cells with '/usr/bin/python' requires ipykernel package.\n",
      "\u001b[1;31mRun the following command to install 'ipykernel' into the Python environment. \n",
      "\u001b[1;31mCommand: '/usr/bin/python -m pip install ipykernel -U --user --force-reinstall'"
     ]
    }
   ],
   "source": []
  },
  {
   "cell_type": "code",
   "execution_count": null,
   "metadata": {},
   "outputs": [
    {
     "ename": "",
     "evalue": "",
     "output_type": "error",
     "traceback": [
      "\u001b[1;31mRunning cells with '/usr/bin/python' requires ipykernel package.\n",
      "\u001b[1;31mRun the following command to install 'ipykernel' into the Python environment. \n",
      "\u001b[1;31mCommand: '/usr/bin/python -m pip install ipykernel -U --user --force-reinstall'"
     ]
    }
   ],
   "source": [
    "import numpy as np\n",
    "import matplotlib.pyplot as plt\n",
    "import matplotlib.dates as mdates\n",
    "\n",
    "def find_best_ploy_fit(trips, variable, poly_degree = 1, period = '', filename = '', save = True):\n",
    "    plt.clf()\n",
    "    plt.figure(figsize =(12, 8))\n",
    "    # df = trips.loc['2019':]\n",
    "    df = trips\n",
    "    # df = trips.reset_index(drop=True)\n",
    "    df['range'] = list(range(len(df)))\n",
    "    x1 = df.loc[:'2020-03-24','range']\n",
    "    y1 = df.loc[:'2020-03-24', variable]\n",
    "\n",
    "    x2 = df.loc['2020-03-24':,'range']\n",
    "    y2 = df.loc['2020-03-24':, variable]\n",
    "\n",
    "    # x3 = df.loc['2021-11':,'range']\n",
    "    # y3 = df.loc['2021-11':, variable]\n",
    "\n",
    "    index = [i for i in range(len(df))]\n",
    "\n",
    "    coeffs1 = np.polyfit(x1, y1, poly_degree)\n",
    "    print()\n",
    "    poly_eqn = np.poly1d(coeffs1)\n",
    "    y_hat1 = poly_eqn(x1)\n",
    "\n",
    "    coeffs2 = np.polyfit(x2, y2, poly_degree)\n",
    "    poly_eqn = np.poly1d(coeffs2)\n",
    "    y_hat2 = poly_eqn(x2)\n",
    "\n",
    "    # coeffs = np.polyfit(x3, y3, poly_degree)\n",
    "    # poly_eqn = np.poly1d(coeffs)\n",
    "    # y_hat3 = poly_eqn(x3)\n",
    "\n",
    "    fig, ax = plt.subplots()\n",
    "    fig.set_figwidth(20)\n",
    "    fig.set_figheight(10)\n",
    "\n",
    "    ax.plot(df.index, df.loc[:, variable], 'ro')\n",
    "    # y_hat1 = np.pad(y_hat1, (None,len(index) - len(y_hat1)))\n",
    "    y_hat1 = np.concatenate((y_hat1,[None]*(len(df.index) - len(y_hat1))))\n",
    "    y_hat2 = np.concatenate(([None]*(len(df.index) - len(y_hat2)), y_hat2))\n",
    "    # y_hat2 = np.concatenate(([None]*(len(x1)), y_hat2, [None]*(len(x3))))\n",
    "    # y_hat3 = np.concatenate(([None]*(len(df.index) - len(y_hat3)), y_hat3))\n",
    "    plt.plot(df.index,y_hat1)\n",
    "    plt.plot(df.index,y_hat2)\n",
    "    # plt.plot(df.index,y_hat3)\n",
    "    plt.ylim(bottom=0)\n",
    "    plt.ylim(top=trips[variable].max()*1.05)\n",
    "    # ax.axvline(pd.to_datetime('2020-03-06'), color=\"black\", linestyle=\"--\",  label='Início da quarentena')\n",
    "    ax.axvline(pd.to_datetime('2020-03-24'), color=\"black\", linestyle=\"--\",  label='Início da quarentena')\n",
    "\n",
    "    title = 'Monthly variation of variable {variable}'.format(variable = variable)\n",
    "    for label in (ax.get_xticklabels() + ax.get_yticklabels()):\n",
    "        label.set_fontsize(16)\n",
    "    plt.title(title, size=22, pad = 10)\n",
    "    if save:\n",
    "        filename = variable + '_' + filename + '_' + str(poly_degree) + '.png'\n",
    "        plt.savefig(destination_folder_path + filename) \n",
    "    return coeffs1,coeffs2"
   ]
  },
  {
   "cell_type": "code",
   "execution_count": null,
   "metadata": {},
   "outputs": [
    {
     "ename": "",
     "evalue": "",
     "output_type": "error",
     "traceback": [
      "\u001b[1;31mRunning cells with '/usr/bin/python' requires ipykernel package.\n",
      "\u001b[1;31mRun the following command to install 'ipykernel' into the Python environment. \n",
      "\u001b[1;31mCommand: '/usr/bin/python -m pip install ipykernel -U --user --force-reinstall'"
     ]
    }
   ],
   "source": [
    "variable = 'tripduration'\n",
    "coeffs = find_best_ploy_fit(trips, variable, 1, 'Before Covid for ', 'before', False)"
   ]
  },
  {
   "cell_type": "code",
   "execution_count": null,
   "metadata": {},
   "outputs": [
    {
     "ename": "",
     "evalue": "",
     "output_type": "error",
     "traceback": [
      "\u001b[1;31mRunning cells with '/usr/bin/python' requires ipykernel package.\n",
      "\u001b[1;31mRun the following command to install 'ipykernel' into the Python environment. \n",
      "\u001b[1;31mCommand: '/usr/bin/python -m pip install ipykernel -U --user --force-reinstall'"
     ]
    }
   ],
   "source": [
    "import numpy as np\n",
    "import matplotlib.pyplot as plt\n",
    "import matplotlib.dates as mdates\n",
    "\n",
    "def find_best_ploy_fit_trip_duration(trips, variable, poly_degree = 1, filename = '', save = True):\n",
    "    plt.clf()\n",
    "    plt.figure(figsize =(12, 8))\n",
    "    # df = trips.loc['2019':]\n",
    "    df = trips\n",
    "    df['tripduration_min'] = df['tripduration'].apply(lambda x : x/60)\n",
    "    variable = 'tripduration_min'\n",
    "    # df = trips.reset_index(drop=True)\n",
    "    df['range'] = list(range(len(df)))\n",
    "    x1 = df.loc[:'2020-8','range']\n",
    "    y1 = df.loc[:'2020-8', variable]\n",
    "\n",
    "    x2 = df.loc['2020-9':'2021-4','range']\n",
    "    y2 = df.loc['2020-9':'2021-4', variable]\n",
    "\n",
    "    x3 = df.loc['2021-5':,'range']\n",
    "    y3 = df.loc['2021-5':, variable]\n",
    "\n",
    "    coeffs1 = np.polyfit(x1, y1, poly_degree)\n",
    "    print()\n",
    "    poly_eqn = np.poly1d(coeffs1)\n",
    "    y_hat1 = poly_eqn(x1)\n",
    "\n",
    "    coeffs2 = np.polyfit(x2, y2, poly_degree)\n",
    "    poly_eqn = np.poly1d(coeffs2)\n",
    "    y_hat2 = poly_eqn(x2)\n",
    "\n",
    "    coeffs3 = np.polyfit(x3, y3, poly_degree)\n",
    "    poly_eqn = np.poly1d(coeffs3)\n",
    "    y_hat3 = poly_eqn(x3)\n",
    "\n",
    "    fig, ax = plt.subplots()\n",
    "    fig.set_figwidth(20)\n",
    "    fig.set_figheight(10)\n",
    "\n",
    "    ax.plot(df.index, df.loc[:, variable], 'ro')\n",
    "    # y_hat1 = np.pad(y_hat1, (None,len(index) - len(y_hat1)))\n",
    "    y_hat1 = np.concatenate((y_hat1,[None]*(len(df.index) - len(y_hat1))))\n",
    "    # y_hat2 = np.concatenate(([None]*(len(df.index) - len(y_hat2)), y_hat2))\n",
    "    y_hat2 = np.concatenate(([None]*(len(x1)), y_hat2, [None]*(len(x3))))\n",
    "    y_hat3 = np.concatenate(([None]*(len(df.index) - len(y_hat3)), y_hat3))\n",
    "    plt.plot(df.index,y_hat1)\n",
    "    plt.plot(df.index,y_hat2)\n",
    "    plt.plot(df.index,y_hat3)\n",
    "    plt.ylim(bottom=0)\n",
    "    plt.ylim(top=trips[variable].max()*1.05)\n",
    "    # ax.axvline(pd.to_datetime('2020-03-06'), color=\"black\", linestyle=\"--\",  label='Início da quarentena')\n",
    "    ax.axvline(pd.to_datetime('2020-03-24'), color=\"black\", linestyle=\"--\",  label='Lockdown in SP (2020-03-24)')\n",
    "    # ax.axvline(pd.to_datetime('2020-09-01'), color=\"black\", linestyle=\"--\",  label='Criação plano profissional')\n",
    "    # ax.axvline(pd.to_datetime('2021-05-01'), color=\"black\", linestyle=\"--\",  label='Criação plano profissional')\n",
    "\n",
    "    # set monthly locator\n",
    "    ax.xaxis.set_major_locator(mdates.MonthLocator(interval=4))\n",
    "    # set formatter\n",
    "    ax.xaxis.set_major_formatter(mdates.DateFormatter('%d-%m-%Y'))\n",
    "    # set font and rotation for date tick labels\n",
    "    plt.gcf().autofmt_xdate()\n",
    "\n",
    "    ax.set_xlabel('Date', color='k', fontsize=22, labelpad = 10)\n",
    "    ax.set_ylabel('Trip duration (min)', color='k', fontsize=22, labelpad = 10)\n",
    "\n",
    "    title = 'Average trip duration'.format(variable = variable)\n",
    "    for label in (ax.get_xticklabels() + ax.get_yticklabels()):\n",
    "        label.set_fontsize(16)\n",
    "    plt.title(title, size=28, pad = 15)\n",
    "    # ax.legend(bbox_to_anchor=(1.15, 1), loc='upper left', fontsize = 18)\n",
    "    ax.legend(loc = 'lower right',fontsize = 22)\n",
    "    if save:\n",
    "        filename = variable + '_' + filename + '_' + str(poly_degree) + '.png'\n",
    "        plt.savefig(destination_folder_path + filename) \n",
    "    return coeffs1,coeffs2, coeffs3"
   ]
  },
  {
   "cell_type": "code",
   "execution_count": null,
   "metadata": {},
   "outputs": [
    {
     "ename": "",
     "evalue": "",
     "output_type": "error",
     "traceback": [
      "\u001b[1;31mRunning cells with '/usr/bin/python' requires ipykernel package.\n",
      "\u001b[1;31mRun the following command to install 'ipykernel' into the Python environment. \n",
      "\u001b[1;31mCommand: '/usr/bin/python -m pip install ipykernel -U --user --force-reinstall'"
     ]
    }
   ],
   "source": [
    "variable = 'tripduration'\n",
    "coeffs = find_best_ploy_fit_trip_duration(trips, variable, 1, 'before', False)"
   ]
  },
  {
   "cell_type": "code",
   "execution_count": null,
   "metadata": {},
   "outputs": [
    {
     "ename": "",
     "evalue": "",
     "output_type": "error",
     "traceback": [
      "\u001b[1;31mRunning cells with '/usr/bin/python' requires ipykernel package.\n",
      "\u001b[1;31mRun the following command to install 'ipykernel' into the Python environment. \n",
      "\u001b[1;31mCommand: '/usr/bin/python -m pip install ipykernel -U --user --force-reinstall'"
     ]
    }
   ],
   "source": [
    "coeffs"
   ]
  },
  {
   "cell_type": "code",
   "execution_count": null,
   "metadata": {},
   "outputs": [
    {
     "ename": "",
     "evalue": "",
     "output_type": "error",
     "traceback": [
      "\u001b[1;31mRunning cells with '/usr/bin/python' requires ipykernel package.\n",
      "\u001b[1;31mRun the following command to install 'ipykernel' into the Python environment. \n",
      "\u001b[1;31mCommand: '/usr/bin/python -m pip install ipykernel -U --user --force-reinstall'"
     ]
    }
   ],
   "source": [
    "import numpy as np\n",
    "import matplotlib.pyplot as plt\n",
    "import matplotlib.dates as mdates\n",
    "\n",
    "def plot_trip_duration(trips, variable, poly_degree = 1, filename = '', save = True):\n",
    "    plt.clf()\n",
    "    plt.figure(figsize =(12, 8))\n",
    "    # df = trips.loc['2019':]\n",
    "    df = trips\n",
    "    df['tripduration_min'] = df['tripduration'].apply(lambda x : x/60)\n",
    "    variable = 'tripduration_min'\n",
    "    # df = trips.reset_index(drop=True)\n",
    "    df['range'] = list(range(len(df)))\n",
    "\n",
    "    fig, ax = plt.subplots()\n",
    "    fig.set_figwidth(20)\n",
    "    fig.set_figheight(10)\n",
    "\n",
    "    ax.plot(df.index, df.loc[:, variable], 'ro')\n",
    "    plt.ylim(bottom=0)\n",
    "    plt.ylim(top=trips[variable].max()*1.05)\n",
    "    # ax.axvline(pd.to_datetime('2020-03-06'), color=\"black\", linestyle=\"--\",  label='Início da quarentena')\n",
    "    ax.axvline(pd.to_datetime('2020-03-24'), color=\"black\", linestyle=\"--\",  label='Lockdown in SP (2020-03-24)')\n",
    "    # ax.axvline(pd.to_datetime('2020-09-01'), color=\"black\", linestyle=\"--\",  label='Criação plano profissional')\n",
    "    # ax.axvline(pd.to_datetime('2021-05-01'), color=\"black\", linestyle=\"--\",  label='Criação plano profissional')\n",
    "\n",
    "    # set monthly locator\n",
    "    ax.xaxis.set_major_locator(mdates.MonthLocator(interval=4))\n",
    "    # set formatter\n",
    "    ax.xaxis.set_major_formatter(mdates.DateFormatter('%d-%m-%Y'))\n",
    "    # set font and rotation for date tick labels\n",
    "    plt.gcf().autofmt_xdate()\n",
    "\n",
    "    ax.set_xlabel('Date', color='k', fontsize=22, labelpad = 10)\n",
    "    ax.set_ylabel('Trip duration (min)', color='k', fontsize=22, labelpad = 10)\n",
    "\n",
    "    title = 'Average trip duration'.format(variable = variable)\n",
    "    for label in (ax.get_xticklabels() + ax.get_yticklabels()):\n",
    "        label.set_fontsize(16)\n",
    "    plt.title(title, size=28, pad = 15)\n",
    "    # ax.legend(bbox_to_anchor=(1.15, 1), loc='upper left', fontsize = 18)\n",
    "    ax.legend(loc = 'lower right',fontsize = 22)\n",
    "    if save:\n",
    "        filename = variable + '_' + filename + '_' + str(poly_degree) + '.png'\n",
    "        plt.savefig(destination_folder_path + filename) \n",
    "    return 0"
   ]
  },
  {
   "cell_type": "code",
   "execution_count": null,
   "metadata": {},
   "outputs": [
    {
     "ename": "",
     "evalue": "",
     "output_type": "error",
     "traceback": [
      "\u001b[1;31mRunning cells with '/usr/bin/python' requires ipykernel package.\n",
      "\u001b[1;31mRun the following command to install 'ipykernel' into the Python environment. \n",
      "\u001b[1;31mCommand: '/usr/bin/python -m pip install ipykernel -U --user --force-reinstall'"
     ]
    }
   ],
   "source": [
    "variable = 'tripduration'\n",
    "coeffs = plot_trip_duration(trips, variable, 1, 'before', False)"
   ]
  },
  {
   "cell_type": "code",
   "execution_count": null,
   "metadata": {},
   "outputs": [
    {
     "ename": "",
     "evalue": "",
     "output_type": "error",
     "traceback": [
      "\u001b[1;31mRunning cells with '/usr/bin/python' requires ipykernel package.\n",
      "\u001b[1;31mRun the following command to install 'ipykernel' into the Python environment. \n",
      "\u001b[1;31mCommand: '/usr/bin/python -m pip install ipykernel -U --user --force-reinstall'"
     ]
    }
   ],
   "source": [
    "coeffs"
   ]
  },
  {
   "cell_type": "code",
   "execution_count": 6,
   "metadata": {},
   "outputs": [],
   "source": [
    "from bokeh.plotting import figure, output_file, show\n",
    "from bokeh.models import LinearAxis, Range1d\n",
    "import pandas as pd\n",
    "\n",
    "import pandas as pd\n",
    "import numpy as np\n",
    "import os\n",
    "import sys\n",
    "sys.path.append('./data_analysis')\n",
    "\n",
    "if 'data_analysis' in os.getcwd():\n",
    "    data_folder = '../data/'\n",
    "else:\n",
    "    data_folder = './data/'\n",
    "\n",
    "source_folder_path = data_folder + 'trips/preprocessed/grouped/'\n",
    "destination_folder_path = data_folder + 'charts/'\n",
    "covid_data = pd.read_csv(data_folder + 'covid/treated_data/data.csv')\n",
    "\n",
    "trips = pd.read_csv(source_folder_path + 'trips_grouped_by_month_mean.csv')\n",
    "\n",
    "from modules.DataPreparation import DataPreparation\n",
    "dp = DataPreparation()\n",
    "\n",
    "covid_data = dp.transform_to_datetime(covid_data, ['date'])\n",
    "covid_data = dp.transform_to_time_series(covid_data, 'date', drop=True)\n",
    "\n",
    "trips_chow = dp.transform_to_datetime(trips, ['date'])"
   ]
  },
  {
   "cell_type": "code",
   "execution_count": null,
   "metadata": {},
   "outputs": [
    {
     "ename": "",
     "evalue": "",
     "output_type": "error",
     "traceback": [
      "\u001b[1;31mRunning cells with '/usr/bin/python' requires ipykernel package.\n",
      "\u001b[1;31mRun the following command to install 'ipykernel' into the Python environment. \n",
      "\u001b[1;31mCommand: '/usr/bin/python -m pip install ipykernel -U --user --force-reinstall'"
     ]
    }
   ],
   "source": [
    "trips = trips.set_index('date', drop = True)\n",
    "trips['index'] = list(range(len(trips)))\n",
    "trips"
   ]
  },
  {
   "cell_type": "code",
   "execution_count": null,
   "metadata": {},
   "outputs": [
    {
     "ename": "",
     "evalue": "",
     "output_type": "error",
     "traceback": [
      "\u001b[1;31mRunning cells with '/usr/bin/python' requires ipykernel package.\n",
      "\u001b[1;31mRun the following command to install 'ipykernel' into the Python environment. \n",
      "\u001b[1;31mCommand: '/usr/bin/python -m pip install ipykernel -U --user --force-reinstall'"
     ]
    }
   ],
   "source": [
    "!pip install linearmodels"
   ]
  },
  {
   "cell_type": "code",
   "execution_count": null,
   "metadata": {},
   "outputs": [
    {
     "ename": "",
     "evalue": "",
     "output_type": "error",
     "traceback": [
      "\u001b[1;31mRunning cells with '/usr/bin/python' requires ipykernel package.\n",
      "\u001b[1;31mRun the following command to install 'ipykernel' into the Python environment. \n",
      "\u001b[1;31mCommand: '/usr/bin/python -m pip install ipykernel -U --user --force-reinstall'"
     ]
    }
   ],
   "source": [
    "from linearmodels.datasets import meps\n",
    "import statsmodels.api as sm\n",
    "import pandas as pd\n",
    "data = meps.load()\n",
    "data = data.dropna()\n",
    "data = sm.add_constant(data)\n",
    "y = data.income\n",
    "X = data.drop('income',axis=1)\n",
    "X_b = X[X.black==1].drop('black',axis=1)\n",
    "y_b = data.income[X.black==1]\n",
    "X_nb = X[X.black==0].drop('black',axis=1)\n",
    "y_nb = data.income[X.black==0]"
   ]
  },
  {
   "cell_type": "code",
   "execution_count": null,
   "metadata": {},
   "outputs": [
    {
     "ename": "",
     "evalue": "",
     "output_type": "error",
     "traceback": [
      "\u001b[1;31mRunning cells with '/usr/bin/python' requires ipykernel package.\n",
      "\u001b[1;31mRun the following command to install 'ipykernel' into the Python environment. \n",
      "\u001b[1;31mCommand: '/usr/bin/python -m pip install ipykernel -U --user --force-reinstall'"
     ]
    }
   ],
   "source": [
    "X.shape"
   ]
  },
  {
   "cell_type": "code",
   "execution_count": null,
   "metadata": {},
   "outputs": [
    {
     "ename": "",
     "evalue": "",
     "output_type": "error",
     "traceback": [
      "\u001b[1;31mRunning cells with '/usr/bin/python' requires ipykernel package.\n",
      "\u001b[1;31mRun the following command to install 'ipykernel' into the Python environment. \n",
      "\u001b[1;31mCommand: '/usr/bin/python -m pip install ipykernel -U --user --force-reinstall'"
     ]
    }
   ],
   "source": [
    "y = trips.tripduration\n",
    "X = trips['index']\n",
    "X_b = X[:'2021-09-01']\n",
    "y_b = y[:'2021-09-01']\n",
    "X_nb = X['2021-09-02':]\n",
    "y_nb = y['2021-09-02':]"
   ]
  },
  {
   "cell_type": "code",
   "execution_count": null,
   "metadata": {},
   "outputs": [
    {
     "ename": "",
     "evalue": "",
     "output_type": "error",
     "traceback": [
      "\u001b[1;31mRunning cells with '/usr/bin/python' requires ipykernel package.\n",
      "\u001b[1;31mRun the following command to install 'ipykernel' into the Python environment. \n",
      "\u001b[1;31mCommand: '/usr/bin/python -m pip install ipykernel -U --user --force-reinstall'"
     ]
    }
   ],
   "source": [
    "J = 1\n",
    "k = 1\n",
    "N1 = X_b.shape[0]\n",
    "N2 = X_nb.shape[0]"
   ]
  },
  {
   "cell_type": "code",
   "execution_count": null,
   "metadata": {},
   "outputs": [
    {
     "ename": "",
     "evalue": "",
     "output_type": "error",
     "traceback": [
      "\u001b[1;31mRunning cells with '/usr/bin/python' requires ipykernel package.\n",
      "\u001b[1;31mRun the following command to install 'ipykernel' into the Python environment. \n",
      "\u001b[1;31mCommand: '/usr/bin/python -m pip install ipykernel -U --user --force-reinstall'"
     ]
    }
   ],
   "source": [
    "y_b"
   ]
  },
  {
   "cell_type": "code",
   "execution_count": null,
   "metadata": {},
   "outputs": [
    {
     "ename": "",
     "evalue": "",
     "output_type": "error",
     "traceback": [
      "\u001b[1;31mRunning cells with '/usr/bin/python' requires ipykernel package.\n",
      "\u001b[1;31mRun the following command to install 'ipykernel' into the Python environment. \n",
      "\u001b[1;31mCommand: '/usr/bin/python -m pip install ipykernel -U --user --force-reinstall'"
     ]
    }
   ],
   "source": [
    "X_nb"
   ]
  },
  {
   "cell_type": "code",
   "execution_count": null,
   "metadata": {},
   "outputs": [
    {
     "ename": "",
     "evalue": "",
     "output_type": "error",
     "traceback": [
      "\u001b[1;31mRunning cells with '/usr/bin/python' requires ipykernel package.\n",
      "\u001b[1;31mRun the following command to install 'ipykernel' into the Python environment. \n",
      "\u001b[1;31mCommand: '/usr/bin/python -m pip install ipykernel -U --user --force-reinstall'"
     ]
    }
   ],
   "source": [
    "y_nb"
   ]
  },
  {
   "cell_type": "code",
   "execution_count": null,
   "metadata": {},
   "outputs": [
    {
     "ename": "",
     "evalue": "",
     "output_type": "error",
     "traceback": [
      "\u001b[1;31mRunning cells with '/usr/bin/python' requires ipykernel package.\n",
      "\u001b[1;31mRun the following command to install 'ipykernel' into the Python environment. \n",
      "\u001b[1;31mCommand: '/usr/bin/python -m pip install ipykernel -U --user --force-reinstall'"
     ]
    }
   ],
   "source": [
    "X_nb"
   ]
  },
  {
   "cell_type": "code",
   "execution_count": null,
   "metadata": {},
   "outputs": [
    {
     "ename": "",
     "evalue": "",
     "output_type": "error",
     "traceback": [
      "\u001b[1;31mRunning cells with '/usr/bin/python' requires ipykernel package.\n",
      "\u001b[1;31mRun the following command to install 'ipykernel' into the Python environment. \n",
      "\u001b[1;31mCommand: '/usr/bin/python -m pip install ipykernel -U --user --force-reinstall'"
     ]
    }
   ],
   "source": [
    "import statsmodels.api as sm\n",
    "model_dummy = sm.OLS(y,X).fit()\n",
    "RSSd = model_dummy.ssr\n",
    "model_b = sm.OLS(y_b,X_b).fit()\n",
    "RSSb = model_b.ssr\n",
    "model_nb = sm.OLS(y_nb,X_nb).fit()\n",
    "RSSnb = model_nb.ssr"
   ]
  },
  {
   "cell_type": "code",
   "execution_count": null,
   "metadata": {},
   "outputs": [
    {
     "ename": "",
     "evalue": "",
     "output_type": "error",
     "traceback": [
      "\u001b[1;31mRunning cells with '/usr/bin/python' requires ipykernel package.\n",
      "\u001b[1;31mRun the following command to install 'ipykernel' into the Python environment. \n",
      "\u001b[1;31mCommand: '/usr/bin/python -m pip install ipykernel -U --user --force-reinstall'"
     ]
    }
   ],
   "source": [
    "chow = ((RSSd-(RSSb+RSSnb))/J)/((RSSb+RSSnb)/(N1+N2-2*k))"
   ]
  },
  {
   "cell_type": "code",
   "execution_count": null,
   "metadata": {},
   "outputs": [
    {
     "ename": "",
     "evalue": "",
     "output_type": "error",
     "traceback": [
      "\u001b[1;31mRunning cells with '/usr/bin/python' requires ipykernel package.\n",
      "\u001b[1;31mRun the following command to install 'ipykernel' into the Python environment. \n",
      "\u001b[1;31mCommand: '/usr/bin/python -m pip install ipykernel -U --user --force-reinstall'"
     ]
    }
   ],
   "source": [
    "import scipy\n",
    "scipy.stats.f.cdf(chow, J, N1+N2-2*k)"
   ]
  },
  {
   "cell_type": "code",
   "execution_count": null,
   "metadata": {},
   "outputs": [
    {
     "ename": "",
     "evalue": "",
     "output_type": "error",
     "traceback": [
      "\u001b[1;31mRunning cells with '/usr/bin/python' requires ipykernel package.\n",
      "\u001b[1;31mRun the following command to install 'ipykernel' into the Python environment. \n",
      "\u001b[1;31mCommand: '/usr/bin/python -m pip install ipykernel -U --user --force-reinstall'"
     ]
    }
   ],
   "source": [
    "!pip install chowtest"
   ]
  },
  {
   "cell_type": "code",
   "execution_count": null,
   "metadata": {},
   "outputs": [
    {
     "ename": "",
     "evalue": "",
     "output_type": "error",
     "traceback": [
      "\u001b[1;31mRunning cells with '/usr/bin/python' requires ipykernel package.\n",
      "\u001b[1;31mRun the following command to install 'ipykernel' into the Python environment. \n",
      "\u001b[1;31mCommand: '/usr/bin/python -m pip install ipykernel -U --user --force-reinstall'"
     ]
    }
   ],
   "source": [
    "trips"
   ]
  },
  {
   "cell_type": "code",
   "execution_count": null,
   "metadata": {},
   "outputs": [
    {
     "ename": "",
     "evalue": "",
     "output_type": "error",
     "traceback": [
      "\u001b[1;31mRunning cells with '/usr/bin/python' requires ipykernel package.\n",
      "\u001b[1;31mRun the following command to install 'ipykernel' into the Python environment. \n",
      "\u001b[1;31mCommand: '/usr/bin/python -m pip install ipykernel -U --user --force-reinstall'"
     ]
    }
   ],
   "source": [
    "from chow_test import Chowtest"
   ]
  },
  {
   "cell_type": "code",
   "execution_count": null,
   "metadata": {},
   "outputs": [
    {
     "ename": "",
     "evalue": "",
     "output_type": "error",
     "traceback": [
      "\u001b[1;31mRunning cells with '/usr/bin/python' requires ipykernel package.\n",
      "\u001b[1;31mRun the following command to install 'ipykernel' into the Python environment. \n",
      "\u001b[1;31mCommand: '/usr/bin/python -m pip install ipykernel -U --user --force-reinstall'"
     ]
    }
   ],
   "source": [
    "chow_test(y_series=pd.Series(trips_chow['tripduration']),\n",
    "            X_series=pd.Series(trips_chow.index),\n",
    "            last_index=26,\n",
    "            first_index=27,\n",
    "            significance=0.05)"
   ]
  },
  {
   "cell_type": "code",
   "execution_count": null,
   "metadata": {},
   "outputs": [
    {
     "ename": "",
     "evalue": "",
     "output_type": "error",
     "traceback": [
      "\u001b[1;31mRunning cells with '/usr/bin/python' requires ipykernel package.\n",
      "\u001b[1;31mRun the following command to install 'ipykernel' into the Python environment. \n",
      "\u001b[1;31mCommand: '/usr/bin/python -m pip install ipykernel -U --user --force-reinstall'"
     ]
    }
   ],
   "source": [
    "trips"
   ]
  },
  {
   "cell_type": "code",
   "execution_count": null,
   "metadata": {},
   "outputs": [
    {
     "ename": "",
     "evalue": "",
     "output_type": "error",
     "traceback": [
      "\u001b[1;31mRunning cells with '/usr/bin/python' requires ipykernel package.\n",
      "\u001b[1;31mRun the following command to install 'ipykernel' into the Python environment. \n",
      "\u001b[1;31mCommand: '/usr/bin/python -m pip install ipykernel -U --user --force-reinstall'"
     ]
    }
   ],
   "source": [
    "chow_test(y_series=pd.Series(trips_chow[1:25]['tripduration']),\n",
    "            X_series=pd.Series(trips_chow[1:25].index),\n",
    "            last_index=10,\n",
    "            first_index=11,\n",
    "            significance=0.05)"
   ]
  },
  {
   "cell_type": "code",
   "execution_count": null,
   "metadata": {},
   "outputs": [
    {
     "ename": "",
     "evalue": "",
     "output_type": "error",
     "traceback": [
      "\u001b[1;31mRunning cells with '/usr/bin/python' requires ipykernel package.\n",
      "\u001b[1;31mRun the following command to install 'ipykernel' into the Python environment. \n",
      "\u001b[1;31mCommand: '/usr/bin/python -m pip install ipykernel -U --user --force-reinstall'"
     ]
    }
   ],
   "source": [
    "chow_test(y_series=pd.Series(trips_chow['tripduration']),\n",
    "            X_series=pd.Series(trips_chow.index),\n",
    "            last_index=10,\n",
    "            first_index=11,\n",
    "            significance=0.05)"
   ]
  },
  {
   "cell_type": "code",
   "execution_count": null,
   "metadata": {},
   "outputs": [
    {
     "ename": "",
     "evalue": "",
     "output_type": "error",
     "traceback": [
      "\u001b[1;31mRunning cells with '/usr/bin/python' requires ipykernel package.\n",
      "\u001b[1;31mRun the following command to install 'ipykernel' into the Python environment. \n",
      "\u001b[1;31mCommand: '/usr/bin/python -m pip install ipykernel -U --user --force-reinstall'"
     ]
    }
   ],
   "source": [
    "trips_chow.loc[26]"
   ]
  },
  {
   "cell_type": "code",
   "execution_count": null,
   "metadata": {},
   "outputs": [
    {
     "ename": "",
     "evalue": "",
     "output_type": "error",
     "traceback": [
      "\u001b[1;31mRunning cells with '/usr/bin/python' requires ipykernel package.\n",
      "\u001b[1;31mRun the following command to install 'ipykernel' into the Python environment. \n",
      "\u001b[1;31mCommand: '/usr/bin/python -m pip install ipykernel -U --user --force-reinstall'"
     ]
    }
   ],
   "source": [
    "results_chow = pd.DataFrame(columns = ['break_date','chow_stat', 'p_value'])\n",
    "for i in range(1, len(trips_chow)-1):\n",
    "    result_chow = chow_test(y_series=pd.Series(trips_chow['tripduration']),\n",
    "            X_series=pd.Series(trips_chow.index),\n",
    "            last_index=i,\n",
    "            first_index=i+1,\n",
    "            significance=0.05)\n",
    "    results_chow = results_chow.append({'break_date' : trips_chow.loc[i]['date'], 'chow_stat' : result_chow[0],  'p_value' : result_chow[1], 'reject': result_chow[1] < 0.05}, ignore_index=True)\n",
    "results_chow = results_chow.set_index('break_date')"
   ]
  },
  {
   "cell_type": "code",
   "execution_count": null,
   "metadata": {},
   "outputs": [
    {
     "ename": "",
     "evalue": "",
     "output_type": "error",
     "traceback": [
      "\u001b[1;31mRunning cells with '/usr/bin/python' requires ipykernel package.\n",
      "\u001b[1;31mRun the following command to install 'ipykernel' into the Python environment. \n",
      "\u001b[1;31mCommand: '/usr/bin/python -m pip install ipykernel -U --user --force-reinstall'"
     ]
    }
   ],
   "source": [
    "results_chow"
   ]
  },
  {
   "cell_type": "code",
   "execution_count": null,
   "metadata": {},
   "outputs": [
    {
     "ename": "",
     "evalue": "",
     "output_type": "error",
     "traceback": [
      "\u001b[1;31mRunning cells with '/usr/bin/python' requires ipykernel package.\n",
      "\u001b[1;31mRun the following command to install 'ipykernel' into the Python environment. \n",
      "\u001b[1;31mCommand: '/usr/bin/python -m pip install ipykernel -U --user --force-reinstall'"
     ]
    }
   ],
   "source": [
    "results_chow['reject'].plot()"
   ]
  },
  {
   "cell_type": "code",
   "execution_count": null,
   "metadata": {},
   "outputs": [
    {
     "ename": "",
     "evalue": "",
     "output_type": "error",
     "traceback": [
      "\u001b[1;31mRunning cells with '/usr/bin/python' requires ipykernel package.\n",
      "\u001b[1;31mRun the following command to install 'ipykernel' into the Python environment. \n",
      "\u001b[1;31mCommand: '/usr/bin/python -m pip install ipykernel -U --user --force-reinstall'"
     ]
    }
   ],
   "source": [
    "results_chow['2019-06':'2021-01']['p_value'].plot()"
   ]
  },
  {
   "cell_type": "code",
   "execution_count": null,
   "metadata": {},
   "outputs": [
    {
     "ename": "",
     "evalue": "",
     "output_type": "error",
     "traceback": [
      "\u001b[1;31mRunning cells with '/usr/bin/python' requires ipykernel package.\n",
      "\u001b[1;31mRun the following command to install 'ipykernel' into the Python environment. \n",
      "\u001b[1;31mCommand: '/usr/bin/python -m pip install ipykernel -U --user --force-reinstall'"
     ]
    }
   ],
   "source": [
    "results_chow[10:35]['p_value'].plot()"
   ]
  },
  {
   "cell_type": "code",
   "execution_count": null,
   "metadata": {},
   "outputs": [
    {
     "ename": "",
     "evalue": "",
     "output_type": "error",
     "traceback": [
      "\u001b[1;31mRunning cells with '/usr/bin/python' requires ipykernel package.\n",
      "\u001b[1;31mRun the following command to install 'ipykernel' into the Python environment. \n",
      "\u001b[1;31mCommand: '/usr/bin/python -m pip install ipykernel -U --user --force-reinstall'"
     ]
    }
   ],
   "source": [
    "oi = []\n",
    "oi.append(1)\n",
    "oi"
   ]
  },
  {
   "cell_type": "code",
   "execution_count": null,
   "metadata": {},
   "outputs": [
    {
     "ename": "",
     "evalue": "",
     "output_type": "error",
     "traceback": [
      "\u001b[1;31mRunning cells with '/usr/bin/python' requires ipykernel package.\n",
      "\u001b[1;31mRun the following command to install 'ipykernel' into the Python environment. \n",
      "\u001b[1;31mCommand: '/usr/bin/python -m pip install ipykernel -U --user --force-reinstall'"
     ]
    }
   ],
   "source": []
  },
  {
   "cell_type": "code",
   "execution_count": null,
   "metadata": {},
   "outputs": [
    {
     "ename": "",
     "evalue": "",
     "output_type": "error",
     "traceback": [
      "\u001b[1;31mRunning cells with '/usr/bin/python' requires ipykernel package.\n",
      "\u001b[1;31mRun the following command to install 'ipykernel' into the Python environment. \n",
      "\u001b[1;31mCommand: '/usr/bin/python -m pip install ipykernel -U --user --force-reinstall'"
     ]
    }
   ],
   "source": [
    "chow_test(y_series=pd.Series(trips_chow[1:25]['tripduration']),\n",
    "            X_series=pd.Series(trips_chow[1:25].index),\n",
    "            last_index=11,\n",
    "            first_index=12,\n",
    "            significance=0.05)"
   ]
  },
  {
   "cell_type": "code",
   "execution_count": null,
   "metadata": {},
   "outputs": [
    {
     "ename": "",
     "evalue": "",
     "output_type": "error",
     "traceback": [
      "\u001b[1;31mRunning cells with '/usr/bin/python' requires ipykernel package.\n",
      "\u001b[1;31mRun the following command to install 'ipykernel' into the Python environment. \n",
      "\u001b[1;31mCommand: '/usr/bin/python -m pip install ipykernel -U --user --force-reinstall'"
     ]
    }
   ],
   "source": [
    "chow_test(y_series=pd.Series(trips_t['tripduration']),\n",
    "            X_series=pd.Series(trips_t.index),\n",
    "            last_index=10,\n",
    "            first_index=11,\n",
    "            significance=0.05)"
   ]
  },
  {
   "cell_type": "code",
   "execution_count": null,
   "metadata": {},
   "outputs": [
    {
     "ename": "",
     "evalue": "",
     "output_type": "error",
     "traceback": [
      "\u001b[1;31mRunning cells with '/usr/bin/python' requires ipykernel package.\n",
      "\u001b[1;31mRun the following command to install 'ipykernel' into the Python environment. \n",
      "\u001b[1;31mCommand: '/usr/bin/python -m pip install ipykernel -U --user --force-reinstall'"
     ]
    }
   ],
   "source": [
    "trips_t"
   ]
  },
  {
   "cell_type": "code",
   "execution_count": null,
   "metadata": {},
   "outputs": [
    {
     "ename": "",
     "evalue": "",
     "output_type": "error",
     "traceback": [
      "\u001b[1;31mRunning cells with '/usr/bin/python' requires ipykernel package.\n",
      "\u001b[1;31mRun the following command to install 'ipykernel' into the Python environment. \n",
      "\u001b[1;31mCommand: '/usr/bin/python -m pip install ipykernel -U --user --force-reinstall'"
     ]
    }
   ],
   "source": [
    "trips['age'].plot()"
   ]
  }
 ],
 "metadata": {
  "kernelspec": {
   "display_name": "virtualenv",
   "language": "python",
   "name": "python3"
  },
  "language_info": {
   "codemirror_mode": {
    "name": "ipython",
    "version": 3
   },
   "file_extension": ".py",
   "mimetype": "text/x-python",
   "name": "python",
   "nbconvert_exporter": "python",
   "pygments_lexer": "ipython3",
   "version": "3.8.10"
  },
  "orig_nbformat": 4,
  "vscode": {
   "interpreter": {
    "hash": "fe164ac2e28f2494249e648c3a27ec62f9830ea23d9a887c4d0677c06136ea10"
   }
  }
 },
 "nbformat": 4,
 "nbformat_minor": 2
}
