{
 "cells": [
  {
   "cell_type": "code",
   "execution_count": 3,
   "metadata": {},
   "outputs": [],
   "source": [
    "import pandas as pd"
   ]
  },
  {
   "cell_type": "code",
   "execution_count": 4,
   "metadata": {},
   "outputs": [],
   "source": [
    "from modules.StationsDataTreatment import StationsDataTreatment\n",
    "\n",
    "sdt = StationsDataTreatment()\n",
    "\n",
    "# for year in ['2018', '2019', '2020', '2021', '2022']:\n",
    "for year in ['2021']:\n",
    "    filename_trips = \"../data/trips/loaded_trips/trips_\"+year+\".csv\"\n",
    "    sdt.find_stations_id(filename_trips)"
   ]
  }
 ],
 "metadata": {
  "kernelspec": {
   "display_name": "Python 3.7.6 ('virtualenv': venv)",
   "language": "python",
   "name": "python3"
  },
  "language_info": {
   "codemirror_mode": {
    "name": "ipython",
    "version": 3
   },
   "file_extension": ".py",
   "mimetype": "text/x-python",
   "name": "python",
   "nbconvert_exporter": "python",
   "pygments_lexer": "ipython3",
   "version": "3.7.6"
  },
  "orig_nbformat": 4,
  "vscode": {
   "interpreter": {
    "hash": "3599f990855689043b88978caa66708c5342414df26d4823d1983700c9fea418"
   }
  }
 },
 "nbformat": 4,
 "nbformat_minor": 2
}
